{
 "cells": [
  {
   "cell_type": "code",
   "execution_count": 6,
   "metadata": {
    "collapsed": true
   },
   "outputs": [],
   "source": [
    "import json"
   ]
  },
  {
   "cell_type": "code",
   "execution_count": 11,
   "metadata": {
    "collapsed": false
   },
   "outputs": [],
   "source": [
    "d = []\n",
    "with open(\"cmudict.tsv\") as f:\n",
    "        for line in f:\n",
    "            an = line.strip('\\n').split('\\t')\n",
    "            # strips the newline character from the end of each line\n",
    "            d.append({'word': an[0], 'pronunciations': (an[2]).split(' ')})\n",
    "            # first pronoun is whitespace so instead of an[1:], an[2:] was used"
   ]
  },
  {
   "cell_type": "code",
   "execution_count": 3,
   "metadata": {
    "collapsed": false
   },
   "outputs": [],
   "source": [
    "### found on https://www.safaribooksonline.com/library/view/python-cookbook-3rd/9781449357337/ch06s02.html \n",
    "with open('cmudict.json', 'w') as f:\n",
    "     json.dump(d, f)"
   ]
  }
 ],
 "metadata": {
  "anaconda-cloud": {},
  "kernelspec": {
   "display_name": "Python [Root]",
   "language": "python",
   "name": "Python [Root]"
  },
  "language_info": {
   "codemirror_mode": {
    "name": "ipython",
    "version": 3
   },
   "file_extension": ".py",
   "mimetype": "text/x-python",
   "name": "python",
   "nbconvert_exporter": "python",
   "pygments_lexer": "ipython3",
   "version": "3.5.2"
  }
 },
 "nbformat": 4,
 "nbformat_minor": 0
}
