{
 "cells": [
  {
   "cell_type": "code",
   "execution_count": 5,
   "metadata": {
    "collapsed": true
   },
   "outputs": [],
   "source": [
    "\"\"\"\n",
    "ENLP A0.5-6: Given an English word, list its rhymes\n",
    "based on the CMU Pronouncing Dictionary.\n",
    "\"\"\"\n",
    "\n",
    "import json, re, sys, doctest, pandas"
   ]
  },
  {
   "cell_type": "code",
   "execution_count": 6,
   "metadata": {
    "collapsed": false
   },
   "outputs": [],
   "source": [
    "def load_dict():\n",
    "    \"\"\"Load cmudict.json into the CMUDICT dict.\"\"\"\n",
    "    INPUT_PATH = 'cmudict.json'\n",
    "    with open(INPUT_PATH) as data_file:    \n",
    "        data = json.load(data_file)\n",
    "    return(data)\n",
    "# figured out how to load from http://stackoverflow.com/questions/2835559/parsing-values-from-a-json-file-in-python\n",
    "CMUDICT = pandas.DataFrame.from_records(load_dict())"
   ]
  },
  {
   "cell_type": "code",
   "execution_count": 7,
   "metadata": {
    "collapsed": false
   },
   "outputs": [],
   "source": [
    "aa = pandas.DataFrame.from_records(CMUDICT)"
   ]
  },
  {
   "cell_type": "code",
   "execution_count": 11,
   "metadata": {
    "collapsed": false
   },
   "outputs": [
    {
     "data": {
      "text/plain": [
       "list"
      ]
     },
     "execution_count": 11,
     "metadata": {},
     "output_type": "execute_result"
    }
   ],
   "source": [
    "type(aa['pronunciations'][0])"
   ]
  },
  {
   "cell_type": "code",
   "execution_count": null,
   "metadata": {
    "collapsed": true
   },
   "outputs": [],
   "source": [
    "def pronunciations(word):\n",
    "    \"\"\"Get the list of possible pronunciations for the given word\n",
    "    (as a list of lists) by looking the word up in CMUDICT.\n",
    "    If the word is not in the dictionary, return None.\n",
    "\n",
    "    TODO: write a few doctests below.\n",
    "\n",
    "    >>>\n",
    "    \"\"\"\n",
    "    # TODO\n",
    "    pass"
   ]
  },
  {
   "cell_type": "code",
   "execution_count": null,
   "metadata": {
    "collapsed": true
   },
   "outputs": [],
   "source": [
    "def rhyming_words(word):\n",
    "    \"\"\"Get the list of words that have a pronunciation\n",
    "    that rhymes with some pronunciation of the given word.\n",
    "\n",
    "    >>> 'STEW' in rhyming_words('GREW')\n",
    "    True\n",
    "\n",
    "    >>> 'GROW' in rhyming_words('GREW')\n",
    "    False\n",
    "\n",
    "    >>> 'GREW' in rhyming_words('GREW')\n",
    "    True\n",
    "\n",
    "    TODO: write more doctests\n",
    "    \"\"\"\n",
    "    # TODO\n",
    "    pass\n",
    "\n",
    "if __name__=='__main__':\n",
    "    load_dict()\n",
    "\n",
    "    doctest.testmod()   # run doctests\n",
    "\n",
    "    query = ... # TODO: get the word provided as input\n",
    "\n",
    "    if query not in CMUDICT:\n",
    "        # TODO: print error to stderr\n",
    "    else:\n",
    "        for w in sorted(rhyming_words(query)):\n",
    "            print(w)"
   ]
  }
 ],
 "metadata": {
  "kernelspec": {
   "display_name": "Python [Root]",
   "language": "python",
   "name": "Python [Root]"
  },
  "language_info": {
   "codemirror_mode": {
    "name": "ipython",
    "version": 3
   },
   "file_extension": ".py",
   "mimetype": "text/x-python",
   "name": "python",
   "nbconvert_exporter": "python",
   "pygments_lexer": "ipython3",
   "version": "3.5.2"
  }
 },
 "nbformat": 4,
 "nbformat_minor": 0
}
