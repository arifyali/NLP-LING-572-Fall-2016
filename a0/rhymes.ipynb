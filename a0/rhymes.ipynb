{
 "cells": [
  {
   "cell_type": "code",
   "execution_count": 14,
   "metadata": {
    "collapsed": true
   },
   "outputs": [],
   "source": [
    "\"\"\"\n",
    "ENLP A0.5-6: Given an English word, list its rhymes\n",
    "based on the CMU Pronouncing Dictionary.\n",
    "\"\"\"\n",
    "\n",
    "import json, re, sys, doctest, argparse"
   ]
  },
  {
   "cell_type": "code",
   "execution_count": 15,
   "metadata": {
    "collapsed": false
   },
   "outputs": [],
   "source": [
    "def load_dict():\n",
    "    \"\"\"Load cmudict.json into the CMUDICT dict.\"\"\"\n",
    "    INPUT_PATH = 'cmudict.json'\n",
    "    data = []\n",
    "    with open(INPUT_PATH) as f:\n",
    "        for line in f:\n",
    "            data.append(json.loads(line))\n",
    "    data = {i['word']: i['pronunciations'] for i in data}\n",
    "    #data = {item.keys()[0]: item.values[0] for item in data}\n",
    "    return(data)\n",
    "# figured out how to load from http://stackoverflow.com/questions/12451431/loading-and-parsing-a-json-file-in-python\n",
    "CMUDICT = load_dict()"
   ]
  },
  {
   "cell_type": "code",
   "execution_count": 16,
   "metadata": {
    "collapsed": true
   },
   "outputs": [],
   "source": [
    "def pronunciations(word):\n",
    "    \"\"\"Get the list of possible pronunciations for the given word\n",
    "    (as a list of lists) by looking the word up in CMUDICT.\n",
    "    If the word is not in the dictionary, return None.\n",
    "\n",
    "    TODO: write a few doctests below.\n",
    "\n",
    "    >>> pronunciations(\"DOG\")\n",
    "    [['D', 'AO1', 'G']]\n",
    "    \n",
    "    >>> pronunciations(\"ZYWICKI\")\n",
    "    [['Z', 'IH0', 'W', 'IH1', 'K', 'IY0']]\n",
    "    \n",
    "    >>> pronunciations(\"dog\")\n",
    "    \n",
    "    \"\"\"\n",
    "    #word = word.upper()\n",
    "    \n",
    "    try:\n",
    "        match = CMUDICT[word]\n",
    "    except KeyError:\n",
    "        match = None\n",
    "    return(match)\n",
    "            #used http://stackoverflow.com/questions/17149561/how-to-find-a-value-in-a-list-of-python-dictionaries\n",
    "\n",
    "    pass"
   ]
  },
  {
   "cell_type": "code",
   "execution_count": 17,
   "metadata": {
    "collapsed": false
   },
   "outputs": [],
   "source": [
    "def ipa_vowels(string):\n",
    "    # used the wikipedia article https://en.wikipedia.org/wiki/Arpabet\n",
    "    # and http://www.phon.ucl.ac.uk/home/wells/ipa-unicode.htm to make dict\n",
    "    ipa_dict = {'AXR' : '\\u025A', 'EH R' : '\\u025Br', 'UH R' : '\\u028Ar', \n",
    "                'AO R' : '\\u0254r', 'AA R' : '\\u0251r', 'IY R' : '\\u026Ar',\n",
    "                'IH R' : '\\u026Ar', 'AW R' : 'a\\u028Ar',\n",
    "                'AA': '\\u0251', 'AO': '\\u0254', 'IY': 'i', 'UW': 'u', \n",
    "               'EH': '\\u025B', 'IH': '\\u026A', 'UH': '\\u028A', 'AH1': '\\u028C',\n",
    "               'AH0': '\\u0259', 'AX': '\\u0259', 'AE': '\\u00E6', 'EY': 'e\\u026A',\n",
    "               'AY': 'a\\u026A', 'OW': 'o\\u028A', 'AW': 'a\\u028A', 'OY' : '\\u0254\\u026A',\n",
    "               'ER' : '\\u025A'}\n",
    "    for ipa in ipa_dict.keys():\n",
    "        string = string.replace(ipa, ipa_dict[ipa])\n",
    "    return(string)\n",
    "    "
   ]
  },
  {
   "cell_type": "code",
   "execution_count": 18,
   "metadata": {
    "collapsed": true
   },
   "outputs": [],
   "source": [
    "def rhyming_words(word, flag = 0):\n",
    "    \"\"\"Get the list of words that have a pronunciation\n",
    "    that rhymes with some pronunciation of the given word.\n",
    "\n",
    "    >>> 'STEW' in rhyming_words('GREW')\n",
    "    True\n",
    "\n",
    "    >>> 'GROW' in rhyming_words('GREW')\n",
    "    False\n",
    "\n",
    "    >>> 'GREW' in rhyming_words('GREW')\n",
    "    True\n",
    "    \n",
    "    >>> 'DOG' in rhyming_words('FOG')\n",
    "    True\n",
    "    \n",
    "    >>> 'DOG' in rhyming_words('CAT')\n",
    "    False\n",
    "    \n",
    "    \"\"\"\n",
    "    rhyme_match = []\n",
    "    word_pronunciation = pronunciations(word)\n",
    "    \n",
    "    for possible_match in CMUDICT.keys(): # This goes through every word in CMUDICT\n",
    "        pmpron = pronunciations(possible_match) #pronunciations for each word\n",
    "        for pron in pmpron: # if a word has multiple spellings\n",
    "            for i in word_pronunciation: # the word supplied, this for loop checks the multiple pronunciations case\n",
    "                rhyme_check = i[-1]\n",
    "                if pron[-1] == rhyme_check:\n",
    "                    if flag == 0:\n",
    "                        rhyme_match.append(possible_match)\n",
    "                    else: \n",
    "                        pron_string = ' '.join(pron)\n",
    "                        print(ipa_vowels(pron_string))\n",
    "                        \n",
    "    # if(len(rhyme_match)>1):\n",
    "    return(rhyme_match)\n",
    "    # else:\n",
    "    #    sys.stderr.write(\"Query word not found\")\n",
    "    pass"
   ]
  },
  {
   "cell_type": "code",
   "execution_count": 6,
   "metadata": {
    "collapsed": false
   },
   "outputs": [
    {
     "name": "stderr",
     "output_type": "stream",
     "text": [
      "usage: __main__.py [-h] [-p]\n",
      "__main__.py: error: unrecognized arguments: -f /Users/arifali/Library/Jupyter/runtime/kernel-1586d0e0-e217-4bea-8160-b089051f0686.json\n"
     ]
    },
    {
     "ename": "SystemExit",
     "evalue": "2",
     "output_type": "error",
     "traceback": [
      "An exception has occurred, use %tb to see the full traceback.\n",
      "\u001b[0;31mSystemExit\u001b[0m\u001b[0;31m:\u001b[0m 2\n"
     ]
    },
    {
     "name": "stderr",
     "output_type": "stream",
     "text": [
      "To exit: use 'exit', 'quit', or Ctrl-D.\n"
     ]
    }
   ],
   "source": [
    "if __name__=='__main__':\n",
    "    load_dict()\n",
    "\n",
    "    doctest.testmod()   # run doctests\n",
    "    \n",
    "    parser = argparse.ArgumentParser()\n",
    "    parser.add_argument(\"-p\", help=\"output pronunciations, not words\",\n",
    "                        action=\"store_true\")\n",
    "    parser.add_argument(\"q\", type=str)\n",
    "\n",
    "    args = parser.parse_args()\n",
    "    \n",
    "    query = (args.q).upper()\n",
    "    \n",
    "    if query not in CMUDICT:\n",
    "        sys.stderr.write(\"Query word not found\")\n",
    "    else:\n",
    "        if args.p:\n",
    "            print(\"test\")\n",
    "            for w in sorted(rhyming_words(query, flag =1)):\n",
    "                print(w)\n",
    "        else:\n",
    "            for w in sorted(rhyming_words(query)):\n",
    "                print(w)"
   ]
  }
 ],
 "metadata": {
  "anaconda-cloud": {},
  "kernelspec": {
   "display_name": "Python [Root]",
   "language": "python",
   "name": "Python [Root]"
  },
  "language_info": {
   "codemirror_mode": {
    "name": "ipython",
    "version": 3
   },
   "file_extension": ".py",
   "mimetype": "text/x-python",
   "name": "python",
   "nbconvert_exporter": "python",
   "pygments_lexer": "ipython3",
   "version": "3.5.2"
  }
 },
 "nbformat": 4,
 "nbformat_minor": 0
}
